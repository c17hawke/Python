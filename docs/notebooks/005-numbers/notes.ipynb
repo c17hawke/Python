{
 "cells": [
  {
   "cell_type": "markdown",
   "metadata": {},
   "source": [
    "Author: SUNNY BHAVEEN CHANDRA\n",
    "\n",
    "For more information - \n",
    "- [1] Python notes-\n",
    "    https://c17hawke.github.io/Python/\n",
    "\n",
    "- [2] Python YouTube Playlist- \n",
    "    https://youtube.com/playlist?list=PLrdaCCBhU_hnxIzB7EJlY-pfYOMGRycAK\n"
   ]
  },
  {
   "cell_type": "markdown",
   "metadata": {},
   "source": [
    "# Numbers in Python 🔢\n",
    "\n",
    "Python supports several types of numbers, including integers, floating point numbers, and complex numbers.\n"
   ]
  },
  {
   "cell_type": "markdown",
   "metadata": {},
   "source": [
    "## Integers 🔢\n",
    "\n",
    "Integers are whole numbers that can be positive, negative, or zero. For example:\n"
   ]
  },
  {
   "cell_type": "code",
   "execution_count": 1,
   "metadata": {},
   "outputs": [
    {
     "name": "stdout",
     "output_type": "stream",
     "text": [
      "Value: x=4 | type: <class 'int'>\n",
      "Value: y=0 | type: <class 'int'>\n",
      "Value: z=-3 | type: <class 'int'>\n"
     ]
    }
   ],
   "source": [
    "x = 4\n",
    "y = 0\n",
    "z = -3\n",
    "print(f\"Value: x={x} | type: {type(x)}\")\n",
    "print(f\"Value: y={y} | type: {type(y)}\")\n",
    "print(f\"Value: z={z} | type: {type(z)}\")"
   ]
  },
  {
   "cell_type": "markdown",
   "metadata": {},
   "source": [
    "### Large integers 🔍-\n",
    "\n",
    "eg currency 10,000,000 10Mn dollars"
   ]
  },
  {
   "cell_type": "code",
   "execution_count": 2,
   "metadata": {},
   "outputs": [
    {
     "name": "stdout",
     "output_type": "stream",
     "text": [
      "Value: x=10000000 | type: <class 'int'>\n",
      "Value: y=10000000 | type: <class 'int'>\n",
      "Value: z=(10, 0, 0) | type: <class 'tuple'>\n"
     ]
    }
   ],
   "source": [
    "x = 10000000\n",
    "y = 10_000_000 # 10,000,000\n",
    "z = 10,000,000 # avoid this\n",
    "print(f\"Value: x={x} | type: {type(x)}\")\n",
    "print(f\"Value: y={y} | type: {type(y)}\")\n",
    "print(f\"Value: z={z} | type: {type(z)}\")"
   ]
  },
  {
   "cell_type": "markdown",
   "metadata": {},
   "source": [
    "## Floats 🔟\n",
    "Floats are numbers with a decimal point. \n"
   ]
  },
  {
   "cell_type": "code",
   "execution_count": 3,
   "metadata": {},
   "outputs": [
    {
     "name": "stdout",
     "output_type": "stream",
     "text": [
      "Value: x=4.0 | type: <class 'float'>\n",
      "Value: y=0.0 | type: <class 'float'>\n",
      "Value: z=-3.3 | type: <class 'float'>\n"
     ]
    }
   ],
   "source": [
    "x = 4.0\n",
    "y = 0.0\n",
    "z = -3.3\n",
    "print(f\"Value: x={x} | type: {type(x)}\")\n",
    "print(f\"Value: y={y} | type: {type(y)}\")\n",
    "print(f\"Value: z={z} | type: {type(z)}\")"
   ]
  },
  {
   "cell_type": "markdown",
   "metadata": {},
   "source": [
    "### Large float values 🔍"
   ]
  },
  {
   "cell_type": "code",
   "execution_count": 4,
   "metadata": {},
   "outputs": [
    {
     "name": "stdout",
     "output_type": "stream",
     "text": [
      "Value: x=10000000.0 | type: <class 'float'>\n",
      "Value: y=10000000.0 | type: <class 'float'>\n",
      "Value: z=(10, 0, 0.0) | type: <class 'tuple'>\n"
     ]
    }
   ],
   "source": [
    "x = 10000000.00\n",
    "y = 10_000_000.00\n",
    "z = 10,000,000.00 # avoid this as it returns tuple\n",
    "print(f\"Value: x={x} | type: {type(x)}\")\n",
    "print(f\"Value: y={y} | type: {type(y)}\")\n",
    "print(f\"Value: z={z} | type: {type(z)}\")"
   ]
  },
  {
   "cell_type": "markdown",
   "metadata": {},
   "source": [
    "They can also be written in scientific notation\n",
    "\n",
    "### Scientific Notation 🔬\n",
    "\n",
    "Numbers can also be represented in scientific notation using the `e` or `E` character to indicate the power of 10. For example, `1e3` represents `1 x 10^3`, which is equivalent to `1000`. Here's an example of using scientific notation in Python:"
   ]
  },
  {
   "cell_type": "code",
   "execution_count": 5,
   "metadata": {},
   "outputs": [
    {
     "name": "stdout",
     "output_type": "stream",
     "text": [
      "Value: x=12000.0 | type: <class 'float'>\n",
      "Value: y=12000.0 | type: <class 'float'>\n",
      "Value: z=12000.0 | type: <class 'float'>\n"
     ]
    }
   ],
   "source": [
    "#   - scientific notation x >> 1 and x >= 0 (positive)\n",
    "# eg: distance between earth and sun\n",
    "x = 12_000.00 \n",
    "y = 1.2 * 10 ** 4\n",
    "z = 1.2e4\n",
    "print(f\"Value: x={x} | type: {type(x)}\")\n",
    "print(f\"Value: y={y} | type: {type(y)}\")\n",
    "print(f\"Value: z={z} | type: {type(z)}\")"
   ]
  },
  {
   "cell_type": "code",
   "execution_count": 6,
   "metadata": {},
   "outputs": [
    {
     "name": "stdout",
     "output_type": "stream",
     "text": [
      "Value: x=12000 | type: <class 'int'>\n",
      "Value: y=12000 | type: <class 'int'>\n",
      "Value: z=12000 | type: <class 'int'>\n"
     ]
    }
   ],
   "source": [
    "x = 12_000 \n",
    "y = int(1.2 * 10 ** 4)\n",
    "z = int(1.2e4)\n",
    "print(f\"Value: x={x} | type: {type(x)}\")\n",
    "print(f\"Value: y={y} | type: {type(y)}\")\n",
    "print(f\"Value: z={z} | type: {type(z)}\")"
   ]
  },
  {
   "cell_type": "code",
   "execution_count": 7,
   "metadata": {},
   "outputs": [
    {
     "name": "stdout",
     "output_type": "stream",
     "text": [
      "Value: x=0.00012 | type: <class 'float'>\n",
      "Value: y=0.00012 | type: <class 'float'>\n",
      "Value: z=0.00012 | type: <class 'float'>\n"
     ]
    }
   ],
   "source": [
    "#   - scientific notation x << 1 and x >= 0 (positive)\n",
    "# eg: radius of an Hydrogen atom\n",
    "x = 0.00012\n",
    "y = 1.2 * 10 ** -4\n",
    "z = 1.2e-4\n",
    "print(f\"Value: x={x} | type: {type(x)}\")\n",
    "print(f\"Value: y={y} | type: {type(y)}\")\n",
    "print(f\"Value: z={z} | type: {type(z)}\")"
   ]
  },
  {
   "cell_type": "code",
   "execution_count": 8,
   "metadata": {},
   "outputs": [
    {
     "name": "stdout",
     "output_type": "stream",
     "text": [
      "Value: x=0.00012 | type: <class 'float'>\n",
      "Value: y=0.00012 | type: <class 'float'>\n",
      "Value: z=0.00012 | type: <class 'float'>\n"
     ]
    }
   ],
   "source": [
    "x = 0.00012\n",
    "y = 1.2 * 10 ** -4\n",
    "z = 1.2E-4\n",
    "print(f\"Value: x={x} | type: {type(x)}\")\n",
    "print(f\"Value: y={y} | type: {type(y)}\")\n",
    "print(f\"Value: z={z} | type: {type(z)}\")"
   ]
  },
  {
   "cell_type": "code",
   "execution_count": 9,
   "metadata": {},
   "outputs": [
    {
     "name": "stdout",
     "output_type": "stream",
     "text": [
      "Value: x=1000.0 | type: <class 'float'>\n",
      "Value: y=150.0 | type: <class 'float'>\n",
      "Value: z=0.03 | type: <class 'float'>\n"
     ]
    }
   ],
   "source": [
    "x = 1e3 # equivalent to 1000\n",
    "y = 1.5e2 # equivalent to 150\n",
    "z = 3E-2 # equivalent to 0.03\n",
    "print(f\"Value: x={x} | type: {type(x)}\")\n",
    "print(f\"Value: y={y} | type: {type(y)}\")\n",
    "print(f\"Value: z={z} | type: {type(z)}\")"
   ]
  },
  {
   "cell_type": "markdown",
   "metadata": {},
   "source": [
    "Scientific notation is often used when working with very large or very small numbers, as it provides a more concise way to represent these values.\n"
   ]
  },
  {
   "cell_type": "markdown",
   "metadata": {},
   "source": [
    "## Complex Numbers 🔢\n",
    "\n",
    "Complex numbers are numbers with a real and imaginary part, written as `x + yj`, where `x` is the real part and `y` is the imaginary part. For example:\n",
    "\n",
    "\n"
   ]
  },
  {
   "cell_type": "code",
   "execution_count": 10,
   "metadata": {},
   "outputs": [
    {
     "name": "stdout",
     "output_type": "stream",
     "text": [
      "Value: x=(3+4j) | type: <class 'complex'>\n",
      "Value: y=(-2-3j) | type: <class 'complex'>\n",
      "Value: z=1j | type: <class 'complex'>\n",
      "Value: a=0j | type: <class 'complex'>\n",
      "Value: b=(1+0j) | type: <class 'complex'>\n"
     ]
    }
   ],
   "source": [
    "x = 3 + 4j\n",
    "y = -2 - 3j\n",
    "z = 1j # equivalent to 0 + 1j, aka perfect complex numbers\n",
    "a = 0j\n",
    "b = 1+0j # complex number with real part only\n",
    "print(f\"Value: x={x} | type: {type(x)}\")\n",
    "print(f\"Value: y={y} | type: {type(y)}\")\n",
    "print(f\"Value: z={z} | type: {type(z)}\")\n",
    "print(f\"Value: a={a} | type: {type(a)}\")\n",
    "print(f\"Value: b={b} | type: {type(b)}\")"
   ]
  },
  {
   "cell_type": "markdown",
   "metadata": {},
   "source": [
    "\n",
    "## Built-in Functions for Working with Numbers 🔧\n",
    "\n",
    "Python also provides several built-in functions for working with numbers -\n",
    "\n",
    "- `abs(x)`: Returns the absolute value of a number. \n",
    "\n",
    "$$\n",
    "abs(x) = f(x) = \\left\\{\\begin{matrix}\n",
    "x & x \\ge 0\\\\ \n",
    "-x & x < 0\n",
    "\\end{matrix}\\right.\n",
    "$$\n",
    "\n",
    "For example:\n",
    "\n",
    "\n"
   ]
  },
  {
   "cell_type": "code",
   "execution_count": 11,
   "metadata": {},
   "outputs": [
    {
     "name": "stdout",
     "output_type": "stream",
     "text": [
      "BEFORE: -5, AFTER: 5\n"
     ]
    }
   ],
   "source": [
    "x = -5\n",
    "result = abs(x)\n",
    "print(f\"BEFORE: {x}, AFTER: {result}\")"
   ]
  },
  {
   "cell_type": "code",
   "execution_count": 12,
   "metadata": {},
   "outputs": [
    {
     "name": "stdout",
     "output_type": "stream",
     "text": [
      "BEFORE: 5, AFTER: 5\n"
     ]
    }
   ],
   "source": [
    "x = 5\n",
    "result = abs(x)\n",
    "print(f\"BEFORE: {x}, AFTER: {result}\")"
   ]
  },
  {
   "cell_type": "markdown",
   "metadata": {},
   "source": [
    "- `divmod(x, y)`: Returns the quotient and remainder when dividing `x` by `y`. For example:\n"
   ]
  },
  {
   "cell_type": "code",
   "execution_count": 13,
   "metadata": {},
   "outputs": [
    {
     "name": "stdout",
     "output_type": "stream",
     "text": [
      "10/3, quotient: 3, reminder: 1\n"
     ]
    }
   ],
   "source": [
    "x = 10\n",
    "y = 3\n",
    "quotient, remainder = divmod(x, y) # q is now 3, r is now 1\n",
    "print(f\"{x}/{y}, quotient: {quotient}, reminder: {remainder}\")"
   ]
  },
  {
   "cell_type": "code",
   "execution_count": 14,
   "metadata": {},
   "outputs": [
    {
     "name": "stdout",
     "output_type": "stream",
     "text": [
      "10/5, quotient: 2, reminder: 0\n"
     ]
    }
   ],
   "source": [
    "x = 10\n",
    "y = 5\n",
    "\n",
    "quotient, reminder = divmod(x, y)\n",
    "print(f\"{x}/{y}, quotient: {quotient}, reminder: {reminder}\")"
   ]
  },
  {
   "cell_type": "code",
   "execution_count": 15,
   "metadata": {},
   "outputs": [
    {
     "name": "stdout",
     "output_type": "stream",
     "text": [
      "10/2, quotient: 5, reminder: 0\n"
     ]
    }
   ],
   "source": [
    "# even number test, remainder = 0\n",
    "x = 10\n",
    "y = 2\n",
    "\n",
    "quotient, reminder = divmod(x, y)\n",
    "print(f\"{x}/{y}, quotient: {quotient}, reminder: {reminder}\")"
   ]
  },
  {
   "cell_type": "code",
   "execution_count": 16,
   "metadata": {},
   "outputs": [
    {
     "name": "stdout",
     "output_type": "stream",
     "text": [
      "11/2, quotient: 5, reminder: 1\n"
     ]
    }
   ],
   "source": [
    "# odd number test, remainder not equal 0\n",
    "x = 11\n",
    "y = 2\n",
    "\n",
    "quotient, reminder = divmod(x, y)\n",
    "print(f\"{x}/{y}, quotient: {quotient}, reminder: {reminder}\")"
   ]
  },
  {
   "cell_type": "markdown",
   "metadata": {},
   "source": [
    "- `pow(x, y)`: Returns `x` raised to the power of `y`. For example:\n"
   ]
  },
  {
   "cell_type": "code",
   "execution_count": 17,
   "metadata": {},
   "outputs": [
    {
     "name": "stdout",
     "output_type": "stream",
     "text": [
      "2 to the power of 3 = 8\n"
     ]
    }
   ],
   "source": [
    "x = 2\n",
    "y = 3\n",
    "z = pow(x, y)\n",
    "print(f\"{x} to the power of {y} = {z}\")"
   ]
  },
  {
   "cell_type": "markdown",
   "metadata": {},
   "source": [
    "- `round(x[, n])`: Rounds a floating point number to the nearest integer. If `n` is provided, rounds to `n` digits after the decimal point. For example:\n"
   ]
  },
  {
   "cell_type": "markdown",
   "metadata": {},
   "source": [
    "without specifying upto what decimal point you want to round off"
   ]
  },
  {
   "cell_type": "code",
   "execution_count": 18,
   "metadata": {},
   "outputs": [
    {
     "name": "stdout",
     "output_type": "stream",
     "text": [
      "BEFORE: 3.14159, AFTER: 3\n"
     ]
    }
   ],
   "source": [
    "x = 3.14159\n",
    "result = round(x) # y is now 3\n",
    "print(f\"BEFORE: {x}, AFTER: {result}\")"
   ]
  },
  {
   "cell_type": "code",
   "execution_count": 19,
   "metadata": {},
   "outputs": [
    {
     "name": "stdout",
     "output_type": "stream",
     "text": [
      "BEFORE: 3.94159, AFTER: 4\n"
     ]
    }
   ],
   "source": [
    "x = 3.94159\n",
    "result = round(x) \n",
    "print(f\"BEFORE: {x}, AFTER: {result}\")"
   ]
  },
  {
   "cell_type": "code",
   "execution_count": 20,
   "metadata": {},
   "outputs": [
    {
     "name": "stdout",
     "output_type": "stream",
     "text": [
      "BEFORE: 3.9, AFTER: 4\n"
     ]
    }
   ],
   "source": [
    "x = 3.9\n",
    "result = round(x) # y is now 3\n",
    "print(f\"BEFORE: {x}, AFTER: {result}\")"
   ]
  },
  {
   "cell_type": "code",
   "execution_count": 21,
   "metadata": {},
   "outputs": [
    {
     "name": "stdout",
     "output_type": "stream",
     "text": [
      "BEFORE: 3.4, AFTER: 3\n",
      "BEFORE: 3.5, AFTER: 4\n"
     ]
    }
   ],
   "source": [
    "x = 3.4\n",
    "result = round(x) \n",
    "print(f\"BEFORE: {x}, AFTER: {result}\")\n",
    "\n",
    "x = 3.5\n",
    "result = round(x) \n",
    "print(f\"BEFORE: {x}, AFTER: {result}\")"
   ]
  },
  {
   "cell_type": "code",
   "execution_count": 22,
   "metadata": {},
   "outputs": [
    {
     "name": "stdout",
     "output_type": "stream",
     "text": [
      "BEFORE: 3.45, AFTER: 3.5\n",
      "BEFORE: 3.43, AFTER: 3.4\n"
     ]
    }
   ],
   "source": [
    "# round upto one decimal places\n",
    "x = 3.45\n",
    "result = round(x, 1) \n",
    "print(f\"BEFORE: {x}, AFTER: {result}\")\n",
    "\n",
    "\n",
    "# round upto one decimal places\n",
    "x = 3.43\n",
    "result = round(x, 1) \n",
    "print(f\"BEFORE: {x}, AFTER: {result}\")\n"
   ]
  },
  {
   "cell_type": "code",
   "execution_count": 23,
   "metadata": {},
   "outputs": [
    {
     "name": "stdout",
     "output_type": "stream",
     "text": [
      "BEFORE: 3.44567, AFTER: 3.45\n"
     ]
    }
   ],
   "source": [
    "# round upto two decimal places\n",
    "x = 3.44567\n",
    "result = round(x, 2) \n",
    "print(f\"BEFORE: {x}, AFTER: {result}\")\n"
   ]
  },
  {
   "cell_type": "code",
   "execution_count": 24,
   "metadata": {},
   "outputs": [
    {
     "name": "stdout",
     "output_type": "stream",
     "text": [
      "BEFORE: 3.44567, AFTER: 3.446\n"
     ]
    }
   ],
   "source": [
    "# round upto three decimal places\n",
    "x = 3.44567\n",
    "result = round(x, 3) \n",
    "print(f\"BEFORE: {x}, AFTER: {result}\")"
   ]
  },
  {
   "cell_type": "code",
   "execution_count": 25,
   "metadata": {},
   "outputs": [
    {
     "name": "stdout",
     "output_type": "stream",
     "text": [
      "using 'int' BEFORE: 3.6, AFTER: 3\n",
      "using 'round' BEFORE: 3.6, AFTER: 4\n"
     ]
    }
   ],
   "source": [
    "# avoid using it not a proper round up\n",
    "x = 3.6\n",
    "result = int(x) # another way but wrong way to round up\n",
    "print(f\"using 'int' BEFORE: {x}, AFTER: {result}\")\n",
    "\n",
    "result = round(x) # another way but correct way to round up\n",
    "print(f\"using 'round' BEFORE: {x}, AFTER: {result}\")"
   ]
  }
 ],
 "metadata": {
  "kernelspec": {
   "display_name": "Python 3 (ipykernel)",
   "language": "python",
   "name": "python3"
  },
  "language_info": {
   "codemirror_mode": {
    "name": "ipython",
    "version": 3
   },
   "file_extension": ".py",
   "mimetype": "text/x-python",
   "name": "python",
   "nbconvert_exporter": "python",
   "pygments_lexer": "ipython3",
   "version": "3.9.17"
  }
 },
 "nbformat": 4,
 "nbformat_minor": 2
}
