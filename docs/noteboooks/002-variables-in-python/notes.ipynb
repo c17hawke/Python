{
 "cells": [
  {
   "attachments": {},
   "cell_type": "markdown",
   "metadata": {},
   "source": [
    "# Variables\n",
    "\n",
    "- In programming languages, a variable is a name used to identify a value.\n",
    "- Developers use variables to make their code more readable and understandable, like using names in natural language.\n",
    "- Technically speaking, variables in Python are values that can change during the execution of a program.\n",
    "- A variable is used to store a value that may change as needed.\n",
    "- In Python, there is no need to explicitly declare a variable. As soon as you assign a value to it, the variable is considered declared.\n"
   ]
  },
  {
   "attachments": {},
   "cell_type": "markdown",
   "metadata": {},
   "source": [
    "## Define a Variable - \n",
    "\n",
    "In Python, a variable is defined by assigning a value to it. Unlike some other programming languages, there is no need to declare a variable before assigning a value to it."
   ]
  },
  {
   "cell_type": "code",
   "execution_count": 1,
   "metadata": {},
   "outputs": [
    {
     "name": "stdout",
     "output_type": "stream",
     "text": [
      "100\n"
     ]
    }
   ],
   "source": [
    "# let x be 100\n",
    "\n",
    "x = 100\n",
    "print(x)"
   ]
  },
  {
   "cell_type": "code",
   "execution_count": 2,
   "metadata": {},
   "outputs": [
    {
     "name": "stdout",
     "output_type": "stream",
     "text": [
      "Twice of a num 10\n"
     ]
    }
   ],
   "source": [
    "x = 5\n",
    "print(\"Twice of a num\", x * 2)"
   ]
  },
  {
   "cell_type": "code",
   "execution_count": 3,
   "metadata": {},
   "outputs": [
    {
     "name": "stdout",
     "output_type": "stream",
     "text": [
      "This is a lecture of: Introduction to python\n"
     ]
    }
   ],
   "source": [
    "lecture = \"Introduction to python\"\n",
    "print(\"This is a lecture of:\", lecture)"
   ]
  },
  {
   "cell_type": "code",
   "execution_count": 4,
   "metadata": {},
   "outputs": [
    {
     "name": "stdout",
     "output_type": "stream",
     "text": [
      "showing table of 5\n",
      "5 * 1 = 5\n",
      "5 * 2 = 10\n",
      "5 * 3 = 15\n",
      "5 * 4 = 20\n",
      "5 * 5 = 25\n",
      "5 * 6 = 30\n",
      "5 * 7 = 35\n",
      "5 * 8 = 40\n",
      "5 * 9 = 45\n",
      "5 * 10 =  50\n"
     ]
    }
   ],
   "source": [
    "# write a table of a no. upto 10\n",
    "x = 5\n",
    "print(\"showing table of\", x)\n",
    "print(x, \"* 1 =\", x * 1)\n",
    "print(x, \"* 2 =\", x * 2)\n",
    "print(x, \"* 3 =\", x * 3)\n",
    "print(x, \"* 4 =\", x * 4)\n",
    "print(x, \"* 5 =\", x * 5)\n",
    "print(x, \"* 6 =\", x * 6)\n",
    "print(x, \"* 7 =\", x * 7)\n",
    "print(x, \"* 8 =\", x * 8)\n",
    "print(x, \"* 9 =\", x * 9)\n",
    "print(x, \"* 10 = \", x * 10)"
   ]
  },
  {
   "attachments": {},
   "cell_type": "markdown",
   "metadata": {},
   "source": [
    "## Rules for defining the variables in Python -\n",
    "\n",
    "1. Variable names can contain letters, numbers, and underscores only (A-z, 0-9, and _ ), \n",
    "but cannot start with a number."
   ]
  },
  {
   "cell_type": "code",
   "execution_count": 5,
   "metadata": {},
   "outputs": [],
   "source": [
    "# Correct variable names as per above rule\n",
    "my_variable = 10\n",
    "my_variable_1 = 20\n",
    "MyVariable_1 = 20\n",
    "_variable = 200\n"
   ]
  },
  {
   "cell_type": "code",
   "execution_count": 6,
   "metadata": {},
   "outputs": [
    {
     "ename": "SyntaxError",
     "evalue": "invalid decimal literal (147137057.py, line 2)",
     "output_type": "error",
     "traceback": [
      "\u001b[1;36m  Cell \u001b[1;32mIn[6], line 2\u001b[1;36m\u001b[0m\n\u001b[1;33m    1_variable = 100 # This will raise a SyntaxError\u001b[0m\n\u001b[1;37m     ^\u001b[0m\n\u001b[1;31mSyntaxError\u001b[0m\u001b[1;31m:\u001b[0m invalid decimal literal\n"
     ]
    }
   ],
   "source": [
    "\n",
    "# against the rule above\n",
    "1_variable = 100 # This will raise a SyntaxError"
   ]
  },
  {
   "cell_type": "code",
   "execution_count": 7,
   "metadata": {},
   "outputs": [
    {
     "ename": "SyntaxError",
     "evalue": "invalid syntax (1003072314.py, line 1)",
     "output_type": "error",
     "traceback": [
      "\u001b[1;36m  Cell \u001b[1;32mIn[7], line 1\u001b[1;36m\u001b[0m\n\u001b[1;33m    my_variable_@ = 20 # This will raise a SyntaxError\u001b[0m\n\u001b[1;37m                  ^\u001b[0m\n\u001b[1;31mSyntaxError\u001b[0m\u001b[1;31m:\u001b[0m invalid syntax\n"
     ]
    }
   ],
   "source": [
    "my_variable_@ = 20 # This will raise a SyntaxError\n"
   ]
  },
  {
   "attachments": {},
   "cell_type": "markdown",
   "metadata": {},
   "source": [
    "2. Variable names are case-sensitive."
   ]
  },
  {
   "cell_type": "code",
   "execution_count": 9,
   "metadata": {},
   "outputs": [
    {
     "name": "stdout",
     "output_type": "stream",
     "text": [
      "10\n",
      "20\n"
     ]
    }
   ],
   "source": [
    "# These are two different variables\n",
    "my_variable = 10\n",
    "my_Variable = 20\n",
    "\n",
    "print(my_variable)\n",
    "print(my_Variable)"
   ]
  },
  {
   "attachments": {},
   "cell_type": "markdown",
   "metadata": {},
   "source": [
    "\n",
    "3. Variable names cannot be the same as Python keywords or inbuilt function.\n",
    "\n",
    ">   NOTE: Think of keywords as a vocabulary of python language."
   ]
  },
  {
   "cell_type": "code",
   "execution_count": 10,
   "metadata": {},
   "outputs": [
    {
     "name": "stdout",
     "output_type": "stream",
     "text": [
      "['False', 'None', 'True', '__peg_parser__', 'and', 'as', 'assert', 'async', 'await', 'break', 'class', 'continue', 'def', 'del', 'elif', 'else', 'except', 'finally', 'for', 'from', 'global', 'if', 'import', 'in', 'is', 'lambda', 'nonlocal', 'not', 'or', 'pass', 'raise', 'return', 'try', 'while', 'with', 'yield']\n"
     ]
    }
   ],
   "source": [
    "\n",
    "# You can check the list of Python keywords using the keyword module\n",
    "import keyword\n",
    "print(keyword.kwlist)"
   ]
  },
  {
   "cell_type": "code",
   "execution_count": 12,
   "metadata": {},
   "outputs": [
    {
     "ename": "TypeError",
     "evalue": "'int' object is not callable",
     "output_type": "error",
     "traceback": [
      "\u001b[1;31m---------------------------------------------------------------------------\u001b[0m",
      "\u001b[1;31mTypeError\u001b[0m                                 Traceback (most recent call last)",
      "Cell \u001b[1;32mIn[12], line 4\u001b[0m\n\u001b[0;32m      2\u001b[0m \u001b[39mprint\u001b[39m \u001b[39m=\u001b[39m \u001b[39m12\u001b[39m\n\u001b[0;32m      3\u001b[0m y  \u001b[39m=\u001b[39m \u001b[39m2\u001b[39m\n\u001b[1;32m----> 4\u001b[0m \u001b[39mprint\u001b[39;49m(\u001b[39mprint\u001b[39;49m)\n",
      "\u001b[1;31mTypeError\u001b[0m: 'int' object is not callable"
     ]
    }
   ],
   "source": [
    "# against the above rule\n",
    "print = 12\n",
    "y  = 2\n",
    "print(print) # type error"
   ]
  },
  {
   "cell_type": "code",
   "execution_count": 8,
   "metadata": {},
   "outputs": [
    {
     "ename": "SyntaxError",
     "evalue": "invalid syntax (90422820.py, line 2)",
     "output_type": "error",
     "traceback": [
      "\u001b[1;36m  Cell \u001b[1;32mIn[8], line 2\u001b[1;36m\u001b[0m\n\u001b[1;33m    for = 10 # This will raise a SyntaxError\u001b[0m\n\u001b[1;37m        ^\u001b[0m\n\u001b[1;31mSyntaxError\u001b[0m\u001b[1;31m:\u001b[0m invalid syntax\n"
     ]
    }
   ],
   "source": [
    "# Invalid variable name\n",
    "for = 10 # This will raise a SyntaxError\n"
   ]
  },
  {
   "cell_type": "code",
   "execution_count": 13,
   "metadata": {},
   "outputs": [],
   "source": [
    "del print # deleting the instance of print"
   ]
  },
  {
   "cell_type": "code",
   "execution_count": 14,
   "metadata": {},
   "outputs": [
    {
     "name": "stdout",
     "output_type": "stream",
     "text": [
      "10\n"
     ]
    }
   ],
   "source": [
    "p = 10\n",
    "print(p) # Now it works"
   ]
  },
  {
   "attachments": {},
   "cell_type": "markdown",
   "metadata": {},
   "source": [
    "## Features\n",
    "\n",
    "4. There is no need to declare a variable before assigning a value to it.\n"
   ]
  },
  {
   "cell_type": "code",
   "execution_count": 15,
   "metadata": {},
   "outputs": [],
   "source": [
    "# You can directly assign a value to a variable\n",
    "x = 2\n",
    "y = \"sample text\""
   ]
  },
  {
   "attachments": {},
   "cell_type": "markdown",
   "metadata": {},
   "source": [
    "5. You can assign values to multiple variables in one line."
   ]
  },
  {
   "cell_type": "code",
   "execution_count": 16,
   "metadata": {},
   "outputs": [
    {
     "name": "stdout",
     "output_type": "stream",
     "text": [
      "10 20 30\n",
      "10 20 30\n"
     ]
    }
   ],
   "source": [
    "x, y, z = 10, 20, 30\n",
    "\n",
    "print(x, y, z)\n",
    "\n",
    "# This is equivalent to:\n",
    "x = 10\n",
    "y = 20\n",
    "z = 30\n",
    "\n",
    "print(x, y, z)\n"
   ]
  },
  {
   "attachments": {},
   "cell_type": "markdown",
   "metadata": {},
   "source": [
    "## More real world examples - - "
   ]
  },
  {
   "cell_type": "code",
   "execution_count": 17,
   "metadata": {},
   "outputs": [
    {
     "name": "stdout",
     "output_type": "stream",
     "text": [
      "area of rectangle = \n",
      "200\n",
      "Perimeter of rectangle = \n",
      "60\n"
     ]
    }
   ],
   "source": [
    "length = 10\n",
    "width = 20\n",
    "\n",
    "area_of_rectangle = length * width\n",
    "perimeter = 2 * (length + width)\n",
    "\n",
    "print(\"area of rectangle = \")\n",
    "print(area_of_rectangle)\n",
    "print(\"Perimeter of rectangle = \")\n",
    "print(perimeter)\n"
   ]
  },
  {
   "cell_type": "code",
   "execution_count": 18,
   "metadata": {},
   "outputs": [
    {
     "name": "stdout",
     "output_type": "stream",
     "text": [
      "Amount payable (in INR): 1800\n"
     ]
    }
   ],
   "source": [
    "# More real world examples -\n",
    "\n",
    "cost_of_shirt_per_unit = 600\n",
    "units_to_purchase = 3\n",
    "\n",
    "amount_payable = cost_of_shirt_per_unit * units_to_purchase\n",
    "print(\"Amount payable (in INR):\", amount_payable)\n"
   ]
  },
  {
   "cell_type": "code",
   "execution_count": null,
   "metadata": {},
   "outputs": [],
   "source": []
  }
 ],
 "metadata": {
  "kernelspec": {
   "display_name": "Python 3",
   "language": "python",
   "name": "python3"
  },
  "language_info": {
   "codemirror_mode": {
    "name": "ipython",
    "version": 3
   },
   "file_extension": ".py",
   "mimetype": "text/x-python",
   "name": "python",
   "nbconvert_exporter": "python",
   "pygments_lexer": "ipython3",
   "version": "3.9.17"
  },
  "orig_nbformat": 4
 },
 "nbformat": 4,
 "nbformat_minor": 2
}
