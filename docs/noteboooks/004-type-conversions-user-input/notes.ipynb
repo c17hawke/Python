{
 "cells": [
  {
   "cell_type": "markdown",
   "metadata": {},
   "source": [
    "Author: SUNNY BHAVEEN CHANDRA\n",
    "\n",
    "For more information - \n",
    "- [1] Python notes-\n",
    "    https://c17hawke.github.io/Python/\n",
    "\n",
    "- [2] Python YouTube Playlist- \n",
    "    https://youtube.com/playlist?list=PLrdaCCBhU_hnxIzB7EJlY-pfYOMGRycAK"
   ]
  },
  {
   "cell_type": "markdown",
   "metadata": {},
   "source": [
    "# User input, Data-type casting/conversions\n",
    "\n",
    "## User input in Python.\n",
    "\n",
    "In Python, you can use the `input()` function to take input from the user. \n",
    "\n",
    "The `input()` function takes an optional string argument which is shown as a prompt to the user. \n",
    "\n",
    "After taking input, the `input()` function returns the value entered by the user as a `str` (i.e. string). \n",
    "\n",
    "For example:"
   ]
  },
  {
   "cell_type": "code",
   "execution_count": 1,
   "metadata": {},
   "outputs": [
    {
     "name": "stdout",
     "output_type": "stream",
     "text": [
      "Name of the lecture?: SUNNY BHAVEEN CHANDRA\n",
      "Hello, everyone! My name is: SUNNY BHAVEEN CHANDRA\n",
      "Welcome to the lecture of: SUNNY BHAVEEN CHANDRA\n"
     ]
    }
   ],
   "source": [
    "name = \"SUNNY BHAVEEN CHANDRA\"\n",
    "lecture = input(\"Name of the lecture?: \")\n",
    "\n",
    "print(f\"Hello, everyone! My name is: {name}\")\n",
    "print(f\"Welcome to the lecture of: {lecture}\")"
   ]
  },
  {
   "cell_type": "code",
   "execution_count": 2,
   "metadata": {},
   "outputs": [
    {
     "name": "stdout",
     "output_type": "stream",
     "text": [
      "<class 'str'>\n"
     ]
    }
   ],
   "source": [
    "print(type(lecture))"
   ]
  },
  {
   "cell_type": "markdown",
   "metadata": {},
   "source": [
    "**The main use of user input in Python is to allow users to interact with the program and provide information in runtime so that the program can use to perform specific tasks.**\n",
    "\n",
    "For example, a program might ask the user for their name and then use that information to personalize a greeting message as show above. \n",
    "\n",
    "User input can also be used to control the flow of a program.\n"
   ]
  },
  {
   "cell_type": "markdown",
   "metadata": {},
   "source": [
    "> NOTE: You can use input function without using prompts but it is not recommended as the user will be confused what to enter."
   ]
  },
  {
   "cell_type": "code",
   "execution_count": 3,
   "metadata": {},
   "outputs": [
    {
     "name": "stdout",
     "output_type": "stream",
     "text": [
      "12\n",
      "12\n"
     ]
    }
   ],
   "source": [
    "x = input() # without prompt\n",
    "print(x)"
   ]
  },
  {
   "cell_type": "code",
   "execution_count": 4,
   "metadata": {},
   "outputs": [
    {
     "name": "stdout",
     "output_type": "stream",
     "text": [
      "Enter your age: 24\n",
      "24\n"
     ]
    }
   ],
   "source": [
    "# let's provide a prompt to the user to give some context-\n",
    "x = input(\"Enter your age: \")\n",
    "print(x)"
   ]
  },
  {
   "cell_type": "code",
   "execution_count": 5,
   "metadata": {},
   "outputs": [
    {
     "name": "stdout",
     "output_type": "stream",
     "text": [
      "You entered: 24\n",
      "type of data entered: <class 'str'>\n"
     ]
    }
   ],
   "source": [
    "print(f\"You entered: {x}\")\n",
    "print(f\"type of data entered: {type(x)}\")\n"
   ]
  },
  {
   "cell_type": "code",
   "execution_count": 6,
   "metadata": {},
   "outputs": [
    {
     "ename": "NameError",
     "evalue": "name 'n' is not defined",
     "output_type": "error",
     "traceback": [
      "\u001b[1;31m---------------------------------------------------------------------------\u001b[0m",
      "\u001b[1;31mTypeError\u001b[0m                                 Traceback (most recent call last)",
      "Cell \u001b[1;32mIn[6], line 1\u001b[0m\n\u001b[1;32m----> 1\u001b[0m \u001b[38;5;28mprint\u001b[39m(\u001b[38;5;124mf\u001b[39m\u001b[38;5;124m\"\u001b[39m\u001b[38;5;124mAge after 5 years: \u001b[39m\u001b[38;5;132;01m{\u001b[39;00m\u001b[43mx\u001b[49m\u001b[38;5;250;43m \u001b[39;49m\u001b[38;5;241;43m+\u001b[39;49m\u001b[38;5;250;43m \u001b[39;49m\u001b[38;5;241;43m5\u001b[39;49m\u001b[38;5;132;01m}\u001b[39;00m\u001b[38;5;124m\"\u001b[39m) \u001b[38;5;66;03m# throws error\u001b[39;00m\n",
      "\u001b[1;31mTypeError\u001b[0m: can only concatenate str (not \"int\") to str"
     ]
    }
   ],
   "source": [
    "N = 5\n",
    "print(f\"Age after {n} years: {age + N}\") # throws error"
   ]
  },
  {
   "cell_type": "markdown",
   "metadata": {},
   "source": [
    "The above example leads us to the topic of type casting in python or conversion of one data type to another.\n",
    "\n",
    "## Handling various data-types and it's conversion\n",
    "\n",
    "The method of converting a Python variable's data type into a certain data type in order to perform the required operation by users. There are two types of it in Python: **Implicit Type Conversion** and **Explicit Type Conversion**.\n",
    "\n",
    "### Implicit conversions aka Data-type conversion\n",
    "\n",
    "In this method, Python automatically converts the data type into another data type. Users don’t have to involve in this process. For example:\n"
   ]
  },
  {
   "cell_type": "code",
   "execution_count": 7,
   "metadata": {},
   "outputs": [
    {
     "data": {
      "text/plain": [
       "61.4"
      ]
     },
     "execution_count": 7,
     "metadata": {},
     "output_type": "execute_result"
    }
   ],
   "source": [
    "# int + float = float\n",
    "\n",
    "x = 24 # int\n",
    "y = 37.4 # float\n",
    "z = x + y \n",
    "\n",
    "z\n"
   ]
  },
  {
   "cell_type": "code",
   "execution_count": 8,
   "metadata": {},
   "outputs": [
    {
     "name": "stdout",
     "output_type": "stream",
     "text": [
      " x  +  y  =  z \n",
      "24 + 37.4 = 61.4\n"
     ]
    }
   ],
   "source": [
    "print(f\" x  +  y  =  z \")\n",
    "print(f\"{x} + {y} = {z}\")\n",
    "\n",
    "# mathematically allowed\n"
   ]
  },
  {
   "cell_type": "code",
   "execution_count": 9,
   "metadata": {},
   "outputs": [
    {
     "name": "stdout",
     "output_type": "stream",
     "text": [
      "type of x: <class 'int'>\n",
      "type of y: <class 'float'>\n",
      "type of z: <class 'float'>\n"
     ]
    }
   ],
   "source": [
    "print(f\"type of x: {type(x)}\")\n",
    "print(f\"type of y: {type(y)}\")\n",
    "print(f\"type of z: {type(z)}\")"
   ]
  },
  {
   "cell_type": "code",
   "execution_count": 10,
   "metadata": {},
   "outputs": [
    {
     "name": "stdout",
     "output_type": "stream",
     "text": [
      " x  *  y  =  z \n",
      "24 * 37.4 = 897.5999999999999\n",
      "type of x: <class 'int'>\n",
      "type of y: <class 'float'>\n",
      "type of z: <class 'float'>\n"
     ]
    }
   ],
   "source": [
    "# int * float = float\n",
    "x = 24\n",
    "y = 37.4\n",
    "z = x * y\n",
    "print(f\" x  *  y  =  z \")\n",
    "print(f\"{x} * {y} = {z}\")\n",
    "print(f\"type of x: {type(x)}\")\n",
    "print(f\"type of y: {type(y)}\")\n",
    "print(f\"type of z: {type(z)}\")\n",
    "# mathematically allowed\n"
   ]
  },
  {
   "cell_type": "code",
   "execution_count": 11,
   "metadata": {},
   "outputs": [
    {
     "name": "stdout",
     "output_type": "stream",
     "text": [
      " x  /  y  =  z \n",
      "24 / 37 = 0.6486486486486487\n",
      "type of x: <class 'int'>\n",
      "type of y: <class 'int'>\n",
      "type of z: <class 'float'>\n"
     ]
    },
    {
     "data": {
      "text/plain": [
       "0.6486486486486487"
      ]
     },
     "execution_count": 11,
     "metadata": {},
     "output_type": "execute_result"
    }
   ],
   "source": [
    "# int / int = float\n",
    "x = 24\n",
    "y = 37\n",
    "z = x / y\n",
    "print(f\" x  /  y  =  z \")\n",
    "print(f\"{x} / {y} = {z}\")\n",
    "print(f\"type of x: {type(x)}\")\n",
    "print(f\"type of y: {type(y)}\")\n",
    "print(f\"type of z: {type(z)}\")\n",
    "# mathematically allowed\n",
    "\n",
    "# simpel representation\n",
    "24/37"
   ]
  },
  {
   "cell_type": "code",
   "execution_count": 12,
   "metadata": {},
   "outputs": [
    {
     "name": "stdout",
     "output_type": "stream",
     "text": [
      " x  +  y  =  z \n",
      "24 + (37.4+2j) = (61.4+2j)\n",
      "type of x: <class 'int'>\n",
      "type of y: <class 'complex'>\n",
      "type of z: <class 'complex'>\n"
     ]
    },
    {
     "data": {
      "text/plain": [
       "(61.4+2j)"
      ]
     },
     "execution_count": 12,
     "metadata": {},
     "output_type": "execute_result"
    }
   ],
   "source": [
    "# int + complex = complex\n",
    "x = 24\n",
    "y = 37.4 + 2j\n",
    "z = x + y\n",
    "print(f\" x  +  y  =  z \")\n",
    "print(f\"{x} + {y} = {z}\")\n",
    "print(f\"type of x: {type(x)}\")\n",
    "print(f\"type of y: {type(y)}\")\n",
    "print(f\"type of z: {type(z)}\")\n",
    "# mathematically allowed\n",
    "\n",
    "24 + 37.4 + 2j"
   ]
  },
  {
   "cell_type": "code",
   "execution_count": 13,
   "metadata": {},
   "outputs": [
    {
     "name": "stdout",
     "output_type": "stream",
     "text": [
      " x  +  y  =  z \n",
      "24.4 + (37.4+2j) = (61.8+2j)\n",
      "type of x: <class 'float'>\n",
      "type of y: <class 'complex'>\n",
      "type of z: <class 'complex'>\n"
     ]
    },
    {
     "data": {
      "text/plain": [
       "(61.8+2j)"
      ]
     },
     "execution_count": 13,
     "metadata": {},
     "output_type": "execute_result"
    }
   ],
   "source": [
    "# float + complex = complex\n",
    "x = 24.4\n",
    "y = 37.4 + 2j\n",
    "z = x + y\n",
    "print(f\" x  +  y  =  z \")\n",
    "print(f\"{x} + {y} = {z}\")\n",
    "print(f\"type of x: {type(x)}\")\n",
    "print(f\"type of y: {type(y)}\")\n",
    "print(f\"type of z: {type(z)}\")\n",
    "# mathematically allowed\n",
    "\n",
    "24.4 + 37.4 + 2j"
   ]
  },
  {
   "cell_type": "markdown",
   "metadata": {},
   "source": [
    "\n",
    "### Explicit conversions aka Data-type casting\n",
    "\n",
    "In this method, Python needs user involvement to convert the variable data type into the required data type. Mainly, type casting can be done with these data type functions: `int()`, `float()`, and `str()` and more as per requirement. For example:\n",
    "\n"
   ]
  },
  {
   "cell_type": "code",
   "execution_count": 14,
   "metadata": {},
   "outputs": [
    {
     "name": "stdout",
     "output_type": "stream",
     "text": [
      "Age: ?24\n",
      "BEFORE: type of age variable: <class 'str'>\n",
      "AFTER: type of age variable: <class 'int'>\n",
      "type of N variable: <class 'int'>\n",
      "Age of the user after 5 years will be: 29\n"
     ]
    }
   ],
   "source": [
    "age = input(\"Age: ?\")\n",
    "N = 5 # int\n",
    "print(f\"BEFORE: type of age variable: {type(age)}\")\n",
    "age = int(age)\n",
    "print(f\"AFTER: type of age variable: {type(age)}\")\n",
    "\n",
    "print(f\"type of N variable: {type(N)}\")\n",
    "\n",
    "print(f\"Age of the user after {N} years will be: {age + N}\")"
   ]
  },
  {
   "cell_type": "markdown",
   "metadata": {},
   "source": [
    "\n",
    "The **need for type-casting** arises when you want to ensure that your data is compatible with specific functions or operations (e.g. converting a variable to a string before concatenating it to another string). Type casting can also be useful when you want to make sure that a variable contains the right type of data."
   ]
  },
  {
   "cell_type": "code",
   "execution_count": 15,
   "metadata": {},
   "outputs": [
    {
     "ename": "TypeError",
     "evalue": "can only concatenate str (not \"float\") to str",
     "output_type": "error",
     "traceback": [
      "\u001b[1;31m---------------------------------------------------------------------------\u001b[0m",
      "\u001b[1;31mTypeError\u001b[0m                                 Traceback (most recent call last)",
      "Cell \u001b[1;32mIn[15], line 4\u001b[0m\n\u001b[0;32m      2\u001b[0m x \u001b[38;5;241m=\u001b[39m \u001b[38;5;124m\"\u001b[39m\u001b[38;5;124m24.4\u001b[39m\u001b[38;5;124m\"\u001b[39m\n\u001b[0;32m      3\u001b[0m y \u001b[38;5;241m=\u001b[39m \u001b[38;5;241m37.4\u001b[39m\n\u001b[1;32m----> 4\u001b[0m z \u001b[38;5;241m=\u001b[39m \u001b[43mx\u001b[49m\u001b[43m \u001b[49m\u001b[38;5;241;43m+\u001b[39;49m\u001b[43m \u001b[49m\u001b[43my\u001b[49m\n\u001b[0;32m      5\u001b[0m \u001b[38;5;28mprint\u001b[39m(\u001b[38;5;124mf\u001b[39m\u001b[38;5;124m\"\u001b[39m\u001b[38;5;124m x  +  y  =  z \u001b[39m\u001b[38;5;124m\"\u001b[39m)\n\u001b[0;32m      6\u001b[0m \u001b[38;5;28mprint\u001b[39m(\u001b[38;5;124mf\u001b[39m\u001b[38;5;124m\"\u001b[39m\u001b[38;5;132;01m{\u001b[39;00mx\u001b[38;5;132;01m}\u001b[39;00m\u001b[38;5;124m + \u001b[39m\u001b[38;5;132;01m{\u001b[39;00my\u001b[38;5;132;01m}\u001b[39;00m\u001b[38;5;124m = \u001b[39m\u001b[38;5;132;01m{\u001b[39;00mz\u001b[38;5;132;01m}\u001b[39;00m\u001b[38;5;124m\"\u001b[39m)\n",
      "\u001b[1;31mTypeError\u001b[0m: can only concatenate str (not \"float\") to str"
     ]
    }
   ],
   "source": [
    "# str + float\n",
    "x = \"24.4\"\n",
    "y = 37.4\n",
    "z = x + y\n",
    "print(f\" x  +  y  =  z \")\n",
    "print(f\"{x} + {y} = {z}\")\n",
    "print(f\"type of x: {type(x)}\")\n",
    "print(f\"type of y: {type(y)}\")\n",
    "print(f\"type of z: {type(z)}\")\n",
    "# mathematically not allowed"
   ]
  },
  {
   "cell_type": "code",
   "execution_count": 16,
   "metadata": {},
   "outputs": [
    {
     "name": "stdout",
     "output_type": "stream",
     "text": [
      " x  +  y  =  z \n",
      "24.4 + 37.4 = 61.8\n",
      "type of x: <class 'float'>\n",
      "type of y: <class 'float'>\n",
      "type of z: <class 'float'>\n"
     ]
    },
    {
     "data": {
      "text/plain": [
       "61.8"
      ]
     },
     "execution_count": 16,
     "metadata": {},
     "output_type": "execute_result"
    }
   ],
   "source": [
    "# str + float\n",
    "x = float(\"24.4\")\n",
    "y = 37.4\n",
    "z = x + y\n",
    "print(f\" x  +  y  =  z \")\n",
    "print(f\"{x} + {y} = {z}\")\n",
    "print(f\"type of x: {type(x)}\")\n",
    "print(f\"type of y: {type(y)}\")\n",
    "print(f\"type of z: {type(z)}\")\n",
    "# Now mathematically allowed\n",
    "\n",
    "float(\"24.4\") + 37.4"
   ]
  },
  {
   "cell_type": "code",
   "execution_count": 17,
   "metadata": {},
   "outputs": [
    {
     "name": "stdout",
     "output_type": "stream",
     "text": [
      " x  +  y  =  z \n",
      "24 + 37.4 = 61.4\n",
      "type of x: <class 'int'>\n",
      "type of y: <class 'float'>\n",
      "type of z: <class 'float'>\n"
     ]
    }
   ],
   "source": [
    "# str + float\n",
    "x = int(float(\"24.4\"))\n",
    "y = 37.4\n",
    "z = x + y\n",
    "print(\" x  +  y  =  z \")\n",
    "print(f\"{x} + {y} = {z}\")\n",
    "print(f\"type of x: {type(x)}\")\n",
    "print(f\"type of y: {type(y)}\")\n",
    "print(f\"type of z: {type(z)}\")"
   ]
  }
 ],
 "metadata": {
  "kernelspec": {
   "display_name": "Python 3 (ipykernel)",
   "language": "python",
   "name": "python3"
  },
  "language_info": {
   "codemirror_mode": {
    "name": "ipython",
    "version": 3
   },
   "file_extension": ".py",
   "mimetype": "text/x-python",
   "name": "python",
   "nbconvert_exporter": "python",
   "pygments_lexer": "ipython3",
   "version": "3.10.9"
  }
 },
 "nbformat": 4,
 "nbformat_minor": 2
}
