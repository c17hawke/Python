{
 "cells": [
  {
   "cell_type": "markdown",
   "metadata": {},
   "source": [
    "Author: SUNNY BHAVEEN CHANDRA\n",
    "\n",
    "For more information - \n",
    "- [1] Python notes-\n",
    "    https://c17hawke.github.io/Python/\n",
    "\n",
    "- [2] Python YouTube Playlist- \n",
    "    https://youtube.com/playlist?list=PLrdaCCBhU_hnxIzB7EJlY-pfYOMGRycAK"
   ]
  },
  {
   "cell_type": "markdown",
   "metadata": {},
   "source": [
    "# Data-types\n",
    "\n",
    "- In programming, the concept of data type is crucial. A data type defines the kind of value a variable can hold and the operations that can be performed on it. \n",
    "- Python, like many other programming languages, has several built-in data types that are used to handle common data such as \n",
    "    - numbers, \n",
    "    - text, and \n",
    "    - collections of items. \n",
    "- These data types are the building blocks of any program and understanding them is essential for writing efficient and effective code.\n",
    "\n",
    "Python has several built-in data types, which fall into the following categories:\n",
    "\n",
    "\n",
    "| Category  | Common Data Types                  | Description         |\n",
    "|-----------|------------------------------------|---------------------|\n",
    "| Text      | `str`                              | text                |\n",
    "| Numeric   | `int`, `float`, `complex`          | numbers             |\n",
    "| Sequence  | `list`, `tuple`, `range`           | collection of items |\n",
    "| Mapping   | `dict`                             | collection of items |\n",
    "| Set       | `set`                              | collection of items |\n",
    "| Boolean   | `bool`                             | boolean             |\n",
    "| None      | `NoneType`                         | NA/NULL type        |"
   ]
  },
  {
   "cell_type": "markdown",
   "metadata": {},
   "source": [
    "## Let's Identify the type of different variables-\n",
    "by using inbuilt `type()` function:"
   ]
  },
  {
   "cell_type": "markdown",
   "metadata": {},
   "source": [
    "---\n",
    "\n",
    "### Text category\n",
    "\n",
    "| Category  | Common Data Types                  | Description         |\n",
    "|-----------|------------------------------------|---------------------|\n",
    "| Text      | `str`                              | text                |\n",
    "\n",
    "#### `string` data-type\n",
    "\n",
    "- Anything which is inside a double or single quotes will be treated as string in python\n",
    "- examples can be (in a double or single quotes)\n",
    "    - a single character, \n",
    "    - a word,\n",
    "    - a sentence, or\n",
    "    - a number, "
   ]
  },
  {
   "cell_type": "code",
   "execution_count": 1,
   "metadata": {},
   "outputs": [
    {
     "name": "stdout",
     "output_type": "stream",
     "text": [
      "Sunny\n",
      "<class 'str'>\n"
     ]
    }
   ],
   "source": [
    "name = \"Sunny\"\n",
    "print(name)\n",
    "print(type(name))"
   ]
  },
  {
   "cell_type": "code",
   "execution_count": 2,
   "metadata": {},
   "outputs": [
    {
     "name": "stdout",
     "output_type": "stream",
     "text": [
      "Sunny is a life long student\n",
      "<class 'str'>\n"
     ]
    }
   ],
   "source": [
    "\n",
    "sentence = \"Sunny is a life long student\"\n",
    "print(sentence)\n",
    "print(type(sentence))"
   ]
  },
  {
   "cell_type": "code",
   "execution_count": 3,
   "metadata": {},
   "outputs": [
    {
     "name": "stdout",
     "output_type": "stream",
     "text": [
      "single quote example\n",
      "<class 'str'>\n"
     ]
    }
   ],
   "source": [
    "sentence = 'single quote example'\n",
    "print(sentence)\n",
    "print(type(sentence))"
   ]
  },
  {
   "cell_type": "code",
   "execution_count": 4,
   "metadata": {},
   "outputs": [
    {
     "name": "stdout",
     "output_type": "stream",
     "text": [
      "S\n",
      "<class 'str'>\n"
     ]
    }
   ],
   "source": [
    "character = \"S\"\n",
    "print(character)\n",
    "print(type(character))"
   ]
  },
  {
   "cell_type": "code",
   "execution_count": 5,
   "metadata": {},
   "outputs": [
    {
     "name": "stdout",
     "output_type": "stream",
     "text": [
      "1234\n",
      "<class 'str'>\n"
     ]
    }
   ],
   "source": [
    "x = \"1234\"\n",
    "print(x)\n",
    "print(type(x))\n",
    "\n"
   ]
  },
  {
   "cell_type": "code",
   "execution_count": 6,
   "metadata": {},
   "outputs": [
    {
     "name": "stdout",
     "output_type": "stream",
     "text": [
      "12.34\n",
      "<class 'str'>\n"
     ]
    }
   ],
   "source": [
    "x = \"12.34\"\n",
    "print(x)\n",
    "print(type(x))\n"
   ]
  },
  {
   "cell_type": "markdown",
   "metadata": {},
   "source": [
    "---\n",
    "\n",
    "### Numeric category\n",
    "\n",
    "| Category  | Common Data Types                  | Description         |\n",
    "|-----------|------------------------------------|---------------------|\n",
    "| Numeric   | `int`, `float`, `complex`          | numbers             |\n",
    "\n",
    "\n",
    "#### `int` data type\n",
    "- `int` represents a pure integers it can be negative or positive integers\n"
   ]
  },
  {
   "cell_type": "code",
   "execution_count": 7,
   "metadata": {},
   "outputs": [
    {
     "name": "stdout",
     "output_type": "stream",
     "text": [
      "1234\n",
      "<class 'int'>\n"
     ]
    }
   ],
   "source": [
    "x = 1234\n",
    "print(x)\n",
    "print(type(x))"
   ]
  },
  {
   "cell_type": "code",
   "execution_count": 8,
   "metadata": {},
   "outputs": [
    {
     "name": "stdout",
     "output_type": "stream",
     "text": [
      "-1234\n",
      "<class 'int'>\n"
     ]
    }
   ],
   "source": [
    "x = -1234\n",
    "print(x)\n",
    "print(type(x))"
   ]
  },
  {
   "cell_type": "code",
   "execution_count": 9,
   "metadata": {},
   "outputs": [
    {
     "name": "stdout",
     "output_type": "stream",
     "text": [
      "0\n",
      "<class 'int'>\n"
     ]
    }
   ],
   "source": [
    "x = 0\n",
    "print(x)\n",
    "print(type(x))"
   ]
  },
  {
   "cell_type": "markdown",
   "metadata": {},
   "source": [
    "#### `float` data type\n",
    "- `float` represents a pure decimal numbers it can be positive or negative decimal numbers\n"
   ]
  },
  {
   "cell_type": "code",
   "execution_count": 10,
   "metadata": {},
   "outputs": [
    {
     "name": "stdout",
     "output_type": "stream",
     "text": [
      "12.34\n",
      "<class 'float'>\n"
     ]
    }
   ],
   "source": [
    "x = 12.34\n",
    "print(x)\n",
    "print(type(x))"
   ]
  },
  {
   "cell_type": "code",
   "execution_count": 11,
   "metadata": {},
   "outputs": [
    {
     "name": "stdout",
     "output_type": "stream",
     "text": [
      "-12.34\n",
      "<class 'float'>\n"
     ]
    }
   ],
   "source": [
    "x = -12.34\n",
    "print(x)\n",
    "print(type(x))"
   ]
  },
  {
   "cell_type": "code",
   "execution_count": 12,
   "metadata": {},
   "outputs": [
    {
     "name": "stdout",
     "output_type": "stream",
     "text": [
      "0.0\n",
      "<class 'float'>\n"
     ]
    }
   ],
   "source": [
    "x = 0.0\n",
    "print(x)\n",
    "print(type(x))"
   ]
  },
  {
   "cell_type": "markdown",
   "metadata": {},
   "source": [
    "#### `complex` data-type\n",
    "- `complex` represents a complex numbers\n",
    "\n",
    "[Reference](https://ncert.nic.in/ncerts/l/kemh105.pdf)"
   ]
  },
  {
   "cell_type": "code",
   "execution_count": 13,
   "metadata": {},
   "outputs": [
    {
     "name": "stdout",
     "output_type": "stream",
     "text": [
      "(1+2j)\n",
      "<class 'complex'>\n",
      "real part of (1+2j) => 1.0\n",
      "imaginary part of (1+2j) => 2.0\n"
     ]
    }
   ],
   "source": [
    "z = 1 + 2j\n",
    "print(z)\n",
    "print(type(z))\n",
    "print(f\"real part of {z} => {z.real}\")\n",
    "print(f\"imaginary part of {z} => {z.imag}\")"
   ]
  },
  {
   "cell_type": "markdown",
   "metadata": {},
   "source": [
    "---\n",
    "\n",
    "### Sequence category\n",
    "\n",
    "| Category  | Common Data Types                  | Description         |\n",
    "|-----------|------------------------------------|---------------------|\n",
    "| Sequence  | `list`, `tuple`, `range`           | collection of items |\n",
    "\n",
    "#### `list` data-type"
   ]
  },
  {
   "cell_type": "code",
   "execution_count": 14,
   "metadata": {},
   "outputs": [
    {
     "name": "stdout",
     "output_type": "stream",
     "text": [
      "[1, 2, 3, 4, 5, 6, 7, 8, 9, 10]\n",
      "<class 'list'>\n"
     ]
    }
   ],
   "source": [
    "x = [1,2,3,4,5,6,7,8,9,10]\n",
    "print(x)\n",
    "print(type(x))"
   ]
  },
  {
   "cell_type": "code",
   "execution_count": 15,
   "metadata": {},
   "outputs": [
    {
     "name": "stdout",
     "output_type": "stream",
     "text": [
      "<class 'list'>\n"
     ]
    }
   ],
   "source": [
    "x = [\"item1\", \"item2\", \"item3\"]\n",
    "print(type(x))"
   ]
  },
  {
   "cell_type": "markdown",
   "metadata": {},
   "source": [
    "#### `tuple` data-type\n"
   ]
  },
  {
   "cell_type": "code",
   "execution_count": 16,
   "metadata": {},
   "outputs": [],
   "source": [
    "x = (1,2,3,4,5,6,7,8,9,10)\n",
    "print(x)\n",
    "print(type(x))"
   ]
  },
  {
   "cell_type": "code",
   "execution_count": 17,
   "metadata": {},
   "outputs": [
    {
     "name": "stdout",
     "output_type": "stream",
     "text": [
      "<class 'tuple'>\n"
     ]
    }
   ],
   "source": [
    "x = (\"item1\", \"item2\", \"item3\")\n",
    "print(type(x))"
   ]
  },
  {
   "cell_type": "markdown",
   "metadata": {},
   "source": [
    "---\n",
    "\n",
    "### Mapping category\n",
    "\n",
    "| Category  | Common Data Types                  | Description         |\n",
    "|-----------|------------------------------------|---------------------|\n",
    "| Mapping   | `dict`                             | collection of items |\n",
    "\n",
    "\n",
    "#### `dict` data-type"
   ]
  },
  {
   "cell_type": "code",
   "execution_count": 18,
   "metadata": {},
   "outputs": [
    {
     "name": "stdout",
     "output_type": "stream",
     "text": [
      "<class 'dict'>\n"
     ]
    }
   ],
   "source": [
    "x = {\n",
    "    \"key\": \"value\",\n",
    "    \"key_1\": \"value_1\",\n",
    "}\n",
    "\n",
    "print(type(x))"
   ]
  },
  {
   "cell_type": "markdown",
   "metadata": {},
   "source": [
    "---\n",
    "\n",
    "### Set category\n",
    "\n",
    "| Category  | Common Data Types                  | Description         |\n",
    "|-----------|------------------------------------|---------------------|\n",
    "| Set       | `set`                              | collection of items |\n",
    "\n",
    "#### `set` data-type"
   ]
  },
  {
   "cell_type": "code",
   "execution_count": 19,
   "metadata": {},
   "outputs": [
    {
     "name": "stdout",
     "output_type": "stream",
     "text": [
      "{1, 2, 3, 4, 5, 6, 7, 8, 9, 10}\n",
      "<class 'set'>\n",
      "{1, 2, 3, 4, 5, 6, 7, 8, 9, 10}\n",
      "<class 'set'>\n"
     ]
    }
   ],
   "source": [
    "x = {1,2,3,4,5,6,7,8,9,10}\n",
    "print(x)\n",
    "print(type(x))\n",
    "\n",
    "x = {1,2,3,4,5,6,7,8,9,9,9,9,9,9,10}\n",
    "print(x)\n",
    "print(type(x))"
   ]
  },
  {
   "cell_type": "markdown",
   "metadata": {},
   "source": [
    "---\n",
    "\n",
    "### Boolean category\n",
    "\n",
    "| Category  | Common Data Types                  | Description         |\n",
    "|-----------|------------------------------------|---------------------|\n",
    "| Boolean   | `bool`                             | boolean             |\n",
    "\n",
    "#### `bool` data-type"
   ]
  },
  {
   "cell_type": "code",
   "execution_count": 20,
   "metadata": {},
   "outputs": [
    {
     "name": "stdout",
     "output_type": "stream",
     "text": [
      "True\n",
      "<class 'bool'>\n"
     ]
    }
   ],
   "source": [
    "x = True\n",
    "print(x)\n",
    "print(type(x))"
   ]
  },
  {
   "cell_type": "code",
   "execution_count": 21,
   "metadata": {},
   "outputs": [
    {
     "name": "stdout",
     "output_type": "stream",
     "text": [
      "False\n",
      "<class 'bool'>\n"
     ]
    }
   ],
   "source": [
    "x = False\n",
    "print(x)\n",
    "print(type(x))"
   ]
  },
  {
   "cell_type": "markdown",
   "metadata": {},
   "source": [
    "---\n",
    "\n",
    "### None/Null category\n",
    "\n",
    "| Category  | Common Data Types                  | Description         |\n",
    "|-----------|------------------------------------|---------------------|\n",
    "| None      | `NoneType`                         | NA/NULL type        |\n",
    "\n",
    "#### `NoneType` data-type"
   ]
  },
  {
   "cell_type": "code",
   "execution_count": 22,
   "metadata": {},
   "outputs": [
    {
     "name": "stdout",
     "output_type": "stream",
     "text": [
      "None\n",
      "<class 'NoneType'>\n"
     ]
    }
   ],
   "source": [
    "x = None\n",
    "print(x)\n",
    "print(type(x))"
   ]
  },
  {
   "cell_type": "markdown",
   "metadata": {},
   "source": [
    "## Example from School records or marksheets "
   ]
  },
  {
   "cell_type": "code",
   "execution_count": 23,
   "metadata": {},
   "outputs": [
    {
     "name": "stdout",
     "output_type": "stream",
     "text": [
      "Sunny\n",
      "<class 'str'>\n"
     ]
    }
   ],
   "source": [
    "name_of_student = \"Sunny\"\n",
    "print(name_of_student)\n",
    "print(type(name_of_student))"
   ]
  },
  {
   "cell_type": "code",
   "execution_count": 24,
   "metadata": {},
   "outputs": [
    {
     "name": "stdout",
     "output_type": "stream",
     "text": [
      "12\n",
      "<class 'int'>\n"
     ]
    }
   ],
   "source": [
    "roll_no = 12\n",
    "print(roll_no)\n",
    "print(type(roll_no))"
   ]
  },
  {
   "cell_type": "code",
   "execution_count": 25,
   "metadata": {},
   "outputs": [
    {
     "name": "stdout",
     "output_type": "stream",
     "text": [
      "75.2\n",
      "<class 'float'>\n"
     ]
    }
   ],
   "source": [
    "percentage_of_marks = 75.2\n",
    "print(percentage_of_marks)\n",
    "print(type(percentage_of_marks))"
   ]
  },
  {
   "cell_type": "code",
   "execution_count": 26,
   "metadata": {},
   "outputs": [
    {
     "name": "stdout",
     "output_type": "stream",
     "text": [
      "{'name_of_student': 'Sunny', 'roll_no': 12, 'percentage_of_marks': 75.2}\n",
      "<class 'dict'>\n"
     ]
    }
   ],
   "source": [
    "student_1_data = {\n",
    "    \"name_of_student\": \"Sunny\",\n",
    "    \"roll_no\": 12,\n",
    "    \"percentage_of_marks\": 75.2\n",
    "}\n",
    "print(student_1_data)\n",
    "print(type(student_1_data))"
   ]
  },
  {
   "cell_type": "code",
   "execution_count": 27,
   "metadata": {},
   "outputs": [
    {
     "name": "stdout",
     "output_type": "stream",
     "text": [
      "['English', 'Maths', 'Science', 'Social Science', 'Hindi']\n",
      "<class 'list'>\n"
     ]
    }
   ],
   "source": [
    "list_of_subjects = [\n",
    "    \"English\", \n",
    "    \"Maths\", \n",
    "    \"Science\", \n",
    "    \"Social Science\", \n",
    "    \"Hindi\"\n",
    "    ]\n",
    "print(list_of_subjects)\n",
    "print(type(list_of_subjects))"
   ]
  },
  {
   "cell_type": "code",
   "execution_count": 28,
   "metadata": {},
   "outputs": [
    {
     "name": "stdout",
     "output_type": "stream",
     "text": [
      "False\n",
      "<class 'bool'>\n"
     ]
    }
   ],
   "source": [
    "passing_status = False\n",
    "print(passing_status)\n",
    "print(type(passing_status))"
   ]
  },
  {
   "cell_type": "code",
   "execution_count": 29,
   "metadata": {},
   "outputs": [
    {
     "name": "stdout",
     "output_type": "stream",
     "text": [
      "None\n",
      "<class 'NoneType'>\n"
     ]
    }
   ],
   "source": [
    "practical_marks_in_English = None\n",
    "print(practical_marks_in_English)\n",
    "print(type(practical_marks_in_English))"
   ]
  },
  {
   "cell_type": "markdown",
   "metadata": {},
   "source": [
    "## Example from Amazon Ecommerce website -"
   ]
  },
  {
   "cell_type": "code",
   "execution_count": 30,
   "metadata": {},
   "outputs": [],
   "source": [
    "name_of_product = \"Hands on Machine Learning\"\n",
    "cost_of_product = 3000\n",
    "one_day_delivery = False\n",
    "rating_of_product = 4.7\n",
    "reviews_of_product = [\n",
    "    \"Book is good\",\n",
    "    \"Book is average\",\n",
    "    \"Book is excellent\"\n",
    "]\n",
    "\n",
    "product_info = {\n",
    "    \"name_of_product\": \"Hands on Machine Learning\",\n",
    "    \"cost_of_product\": 3000,\n",
    "    \"one_day_delivery\": False,\n",
    "    \"rating_of_product\": 4.7,\n",
    "    \"reviews_of_product\": [\n",
    "                        \"Book is good\",\n",
    "                        \"Book is average\",\n",
    "                        \"Book is excellent\"\n",
    "                    ]\n",
    "}"
   ]
  },
  {
   "cell_type": "markdown",
   "metadata": {},
   "source": [
    "### ASSIGNMENT: Find out the data-type of each variable above as an assignment"
   ]
  }
 ],
 "metadata": {
  "kernelspec": {
   "display_name": "Python 3",
   "language": "python",
   "name": "python3"
  },
  "language_info": {
   "codemirror_mode": {
    "name": "ipython",
    "version": 3
   },
   "file_extension": ".py",
   "mimetype": "text/x-python",
   "name": "python",
   "nbconvert_exporter": "python",
   "pygments_lexer": "ipython3",
   "version": "3.9.17"
  },
  "orig_nbformat": 4
 },
 "nbformat": 4,
 "nbformat_minor": 2
}
